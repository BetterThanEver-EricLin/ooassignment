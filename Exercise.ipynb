{
  "nbformat": 4,
  "nbformat_minor": 0,
  "metadata": {
    "colab": {
      "provenance": []
    },
    "kernelspec": {
      "name": "python3",
      "display_name": "Python 3"
    },
    "language_info": {
      "name": "python"
    }
  },
  "cells": [
    {
      "cell_type": "code",
      "source": [
        "class Student:\n",
        "  def __init__(self, name, student_id, age, gender):\n",
        "    self.name = name\n",
        "    self.student_id = student_id\n",
        "    self.age = age\n",
        "    self.gender = gender\n",
        "    self.grade = 0\n",
        "  def set_grade(self, grade):\n",
        "    self.grade = grade\n",
        "  def get_grade(self):\n",
        "    return self.grade\n",
        "  def display_student_info(self):\n",
        "    print(\"Name:\", self.name, \"\\nStudent_ID:\", self.student_id, \"\\nAge:\", self.age, \"\\nGender:\", self.gender, \"\\nGrade:\", self.grade)"
      ],
      "metadata": {
        "id": "tXSAJ5Wi2RUB"
      },
      "execution_count": null,
      "outputs": []
    }
  ]
}